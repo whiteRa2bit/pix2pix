{
 "cells": [
  {
   "cell_type": "code",
   "execution_count": 1,
   "metadata": {},
   "outputs": [],
   "source": [
    "import os\n",
    "\n",
    "import numpy as np\n",
    "import matplotlib.pyplot as plt"
   ]
  },
  {
   "cell_type": "code",
   "execution_count": 2,
   "metadata": {},
   "outputs": [],
   "source": [
    "config = {\n",
    "    \"train_batch_size\": 64,\n",
    "    \"val_batch_size\": 64,\n",
    "    \"in_channels\": 3,\n",
    "    \"out_channels\": 3,\n",
    "    \"num_downs\": 7,\n",
    "    \"g_lr\": 3e-4,\n",
    "    \"epochs_num\": 1,\n",
    "    \"log_each\": 10,\n",
    "    \"device\": \"cuda:1\"\n",
    "}"
   ]
  },
  {
   "cell_type": "code",
   "execution_count": 3,
   "metadata": {},
   "outputs": [],
   "source": [
    "DATA_DIR = '/home/pafakanov/data/other/dl/hw3/edges2shoes'\n",
    "TRAIN_DIR = os.path.join(DATA_DIR, 'train')\n",
    "VAL_DIR = os.path.join(DATA_DIR, 'val')"
   ]
  },
  {
   "cell_type": "code",
   "execution_count": 4,
   "metadata": {},
   "outputs": [],
   "source": [
    "def _get_paths(data_dir):\n",
    "    filenames = os.listdir(data_dir)\n",
    "    paths = [os.path.join(data_dir, name) for name in filenames]\n",
    "    return paths"
   ]
  },
  {
   "cell_type": "code",
   "execution_count": 5,
   "metadata": {},
   "outputs": [],
   "source": [
    "train_paths = _get_paths(TRAIN_DIR)\n",
    "val_paths = _get_paths(VAL_DIR)"
   ]
  },
  {
   "cell_type": "code",
   "execution_count": 6,
   "metadata": {},
   "outputs": [
    {
     "name": "stdout",
     "output_type": "stream",
     "text": [
      "<matplotlib.image.AxesImage at 0x7fc54016d450>"
     ]
    }
   ],
   "source": [
    "img = plt.imread(train_paths[0])\n",
    "plt.imshow(img)"
   ]
  },
  {
   "cell_type": "code",
   "execution_count": 7,
   "metadata": {},
   "outputs": [],
   "source": [
    "import torch\n",
    "from torch.utils.data import Dataset, DataLoader\n",
    "from torchvision import transforms\n",
    "from PIL import Image"
   ]
  },
  {
   "cell_type": "code",
   "execution_count": 8,
   "metadata": {},
   "outputs": [],
   "source": [
    "class ImageDataset(Dataset):\n",
    "    def __init__(self, data_dir):\n",
    "        self.data_dir = data_dir\n",
    "        self.filenames = os.listdir(data_dir)\n",
    "        self.transforms = transforms.Compose([\n",
    "             transforms.ToTensor()\n",
    "        ])\n",
    "\n",
    "    def __len__(self):\n",
    "        return len(os.listdir(self.data_dir)) - 1\n",
    "\n",
    "    def __getitem__(self, idx):\n",
    "        filename = self.filenames[idx]\n",
    "        img_path = os.path.join(self.data_dir, filename)\n",
    "        img = Image.open(img_path)\n",
    "        img_tensor = self.transforms(img)\n",
    "        width = img_tensor.shape[2]\n",
    "        sketch_tensor = img_tensor[:, :, :width//2]\n",
    "        real_tensor = img_tensor[:, :, width//2:]\n",
    "        return sketch_tensor.float(), real_tensor.float()"
   ]
  },
  {
   "cell_type": "code",
   "execution_count": 9,
   "metadata": {},
   "outputs": [],
   "source": [
    "train_dataset = ImageDataset(TRAIN_DIR)\n",
    "val_dataset = ImageDataset(VAL_DIR)\n",
    "\n",
    "train_dataloader = DataLoader(train_dataset, config['train_batch_size'], True)\n",
    "val_dataloader = DataLoader(val_dataset, config['val_batch_size'], True)"
   ]
  },
  {
   "cell_type": "code",
   "execution_count": 10,
   "metadata": {},
   "outputs": [],
   "source": [
    "sketch, real = train_dataset[0]\n",
    "\n",
    "f, ax = plt.subplots(1, 2, figsize=(8, 3))\n",
    "ax[0].imshow(sketch.permute(1, 2, 0))\n",
    "ax[1].imshow(real.permute(1, 2, 0))\n",
    "plt.show()"
   ]
  },
  {
   "cell_type": "code",
   "execution_count": 11,
   "metadata": {},
   "outputs": [],
   "source": [
    "import functools\n",
    "\n",
    "import torch\n",
    "import torch.nn as nn"
   ]
  },
  {
   "cell_type": "code",
   "execution_count": 12,
   "metadata": {},
   "outputs": [],
   "source": [
    "class UnetSkipConnectionBlock(nn.Module):\n",
    "    \"\"\"Defines the Unet submodule with skip connection.\n",
    "        X -------------------identity----------------------\n",
    "        |-- downsampling -- |submodule| -- upsampling --|\n",
    "    \"\"\"\n",
    "\n",
    "    def __init__(self, outer_nc, inner_nc, input_nc=None,\n",
    "                 submodule=None, outermost=False, innermost=False, norm_layer=nn.BatchNorm2d, use_dropout=False):\n",
    "        \"\"\"Construct a Unet submodule with skip connections.\n",
    "\n",
    "        Parameters:\n",
    "            outer_nc (int) -- the number of filters in the outer conv layer\n",
    "            inner_nc (int) -- the number of filters in the inner conv layer\n",
    "            input_nc (int) -- the number of channels in input images/features\n",
    "            submodule (UnetSkipConnectionBlock) -- previously defined submodules\n",
    "            outermost (bool)    -- if this module is the outermost module\n",
    "            innermost (bool)    -- if this module is the innermost module\n",
    "            norm_layer          -- normalization layer\n",
    "            use_dropout (bool)  -- if use dropout layers.\n",
    "        \"\"\"\n",
    "        super(UnetSkipConnectionBlock, self).__init__()\n",
    "        self.outermost = outermost\n",
    "        if type(norm_layer) == functools.partial:\n",
    "            use_bias = norm_layer.func == nn.InstanceNorm2d\n",
    "        else:\n",
    "            use_bias = norm_layer == nn.InstanceNorm2d\n",
    "        if input_nc is None:\n",
    "            input_nc = outer_nc\n",
    "        downconv = nn.Conv2d(input_nc, inner_nc, kernel_size=4,\n",
    "                             stride=2, padding=1, bias=use_bias)\n",
    "        downrelu = nn.LeakyReLU(0.2, True)\n",
    "        downnorm = norm_layer(inner_nc)\n",
    "        uprelu = nn.ReLU(True)\n",
    "        upnorm = norm_layer(outer_nc)\n",
    "\n",
    "        if outermost:\n",
    "            upconv = nn.ConvTranspose2d(inner_nc * 2, outer_nc,\n",
    "                                        kernel_size=4, stride=2,\n",
    "                                        padding=1)\n",
    "            down = [downconv]\n",
    "            up = [uprelu, upconv, nn.Tanh()]\n",
    "            model = down + [submodule] + up\n",
    "        elif innermost:\n",
    "            upconv = nn.ConvTranspose2d(inner_nc, outer_nc,\n",
    "                                        kernel_size=4, stride=2,\n",
    "                                        padding=1, bias=use_bias)\n",
    "            down = [downrelu, downconv]\n",
    "            up = [uprelu, upconv, upnorm]\n",
    "            model = down + up\n",
    "        else:\n",
    "            upconv = nn.ConvTranspose2d(inner_nc * 2, outer_nc,\n",
    "                                        kernel_size=4, stride=2,\n",
    "                                        padding=1, bias=use_bias)\n",
    "            down = [downrelu, downconv, downnorm]\n",
    "            up = [uprelu, upconv, upnorm]\n",
    "\n",
    "            if use_dropout:\n",
    "                model = down + [submodule] + up + [nn.Dropout(0.5)]\n",
    "            else:\n",
    "                model = down + [submodule] + up\n",
    "\n",
    "        self.model = nn.Sequential(*model)\n",
    "\n",
    "    def forward(self, x):\n",
    "        if self.outermost:\n",
    "            return self.model(x)\n",
    "        else:   # add skip connections\n",
    "            return torch.cat([x, self.model(x)], 1)"
   ]
  },
  {
   "cell_type": "code",
   "execution_count": 13,
   "metadata": {},
   "outputs": [],
   "source": [
    "class UnetGenerator(nn.Module):\n",
    "    \"\"\"Create a Unet-based generator\"\"\"\n",
    "\n",
    "    def __init__(self, input_nc, output_nc, num_downs, ngf=64, norm_layer=nn.BatchNorm2d, use_dropout=False):\n",
    "        \"\"\"Construct a Unet generator\n",
    "        Parameters:\n",
    "            input_nc (int)  -- the number of channels in input images\n",
    "            output_nc (int) -- the number of channels in output images\n",
    "            num_downs (int) -- the number of downsamplings in UNet. For example, # if |num_downs| == 7,\n",
    "                                image of size 128x128 will become of size 1x1 # at the bottleneck\n",
    "            ngf (int)       -- the number of filters in the last conv layer\n",
    "            norm_layer      -- normalization layer\n",
    "\n",
    "        We construct the U-Net from the innermost layer to the outermost layer.\n",
    "        It is a recursive process.\n",
    "        \"\"\"\n",
    "        super(UnetGenerator, self).__init__()\n",
    "        # construct unet structure\n",
    "        unet_block = UnetSkipConnectionBlock(ngf * 8, ngf * 8, input_nc=None, submodule=None, norm_layer=norm_layer, innermost=True)  # add the innermost layer\n",
    "        for i in range(num_downs - 5):          # add intermediate layers with ngf * 8 filters\n",
    "            unet_block = UnetSkipConnectionBlock(ngf * 8, ngf * 8, input_nc=None, submodule=unet_block, norm_layer=norm_layer, use_dropout=use_dropout)\n",
    "        # gradually reduce the number of filters from ngf * 8 to ngf\n",
    "        unet_block = UnetSkipConnectionBlock(ngf * 4, ngf * 8, input_nc=None, submodule=unet_block, norm_layer=norm_layer)\n",
    "        unet_block = UnetSkipConnectionBlock(ngf * 2, ngf * 4, input_nc=None, submodule=unet_block, norm_layer=norm_layer)\n",
    "        unet_block = UnetSkipConnectionBlock(ngf, ngf * 2, input_nc=None, submodule=unet_block, norm_layer=norm_layer)\n",
    "        self.model = UnetSkipConnectionBlock(output_nc, ngf, input_nc=input_nc, submodule=unet_block, outermost=True, norm_layer=norm_layer)  # add the outermost layer\n",
    "\n",
    "    def forward(self, input):\n",
    "        \"\"\"Standard forward\"\"\"\n",
    "        return self.model(input)"
   ]
  },
  {
   "cell_type": "code",
   "execution_count": 14,
   "metadata": {},
   "outputs": [],
   "source": [
    "generator = UnetGenerator(config['in_channels'], config['out_channels'], config['num_downs'])"
   ]
  },
  {
   "cell_type": "code",
   "execution_count": 15,
   "metadata": {},
   "outputs": [],
   "source": [
    "# generator(sketch.unsqueeze(0))"
   ]
  },
  {
   "cell_type": "code",
   "execution_count": 16,
   "metadata": {},
   "outputs": [],
   "source": [
    "WANDB_PROJECT = 'dl_hse_gan'\n",
    "CHECKPOINT_DIR = '/home/pafakanov/data/other/dl/hw3/checkpoints'"
   ]
  },
  {
   "cell_type": "code",
   "execution_count": 17,
   "metadata": {},
   "outputs": [],
   "source": [
    "import tqdm\n",
    "import wandb\n",
    "from loguru import logger\n",
    "\n",
    "\n",
    "class Trainer:\n",
    "    def __init__(self, model, optimizer, train_dataloader, val_dataloader, config=config):\n",
    "        self.model = model.to(config['device'])\n",
    "        self.optimizer = optimizer\n",
    "        self.config = config\n",
    "        self.criterion = nn.L1Loss()\n",
    "\n",
    "        self.train_dataloader = train_dataloader\n",
    "        self.val_dataloader = val_dataloader\n",
    "\n",
    "    def _initialize_wandb(self, project_name=WANDB_PROJECT):\n",
    "        wandb.init(config=self.config, project=project_name)\n",
    "        wandb.watch(self.model)\n",
    "\n",
    "    def train(self):\n",
    "        self.model.train()\n",
    "        self._initialize_wandb()\n",
    "\n",
    "        best_val_loss = np.inf\n",
    "        for epoch in range(self.config['epochs_num']):\n",
    "            logger.info(f\"Epoch {epoch} started...\")\n",
    "            for i, data in tqdm.tqdm(enumerate(self.train_dataloader)):\n",
    "                sketches, real = data\n",
    "                sketches = sketches.to(config[\"device\"])\n",
    "                real = real.to(config[\"device\"])\n",
    "\n",
    "                self.optimizer.zero_grad()\n",
    "                outputs = self.model(sketches)\n",
    "                loss = self.criterion(outputs, real)\n",
    "\n",
    "                # compute gradients\n",
    "                loss.backward()\n",
    "\n",
    "                # make a step\n",
    "                self.optimizer.step()\n",
    "\n",
    "                loss = loss.item()\n",
    "\n",
    "                if i % self.config['log_each'] == 0:\n",
    "                    val_metrics = self._compute_metrics(self.val_dataloader)\n",
    "                    val_loss = val_metrics['loss']\n",
    "                    val_fig = val_metrics['sample_fig']\n",
    "                    wandb.log({\n",
    "                        \"Train Loss\": loss, \\\n",
    "                        \"Val Loss\": val_loss, \\\n",
    "                        \"Sample\": val_fig\n",
    "                    })\n",
    "                    plt.clf()\n",
    "\n",
    "                    if val_loss < best_val_loss:\n",
    "                        self._save_checkpoint(model, \"baseline\")\n",
    "                        best_val_loss = val_loss\n",
    "        logger.info(f\"Training finished. Best validation loss: {best_val_loss}\")\n",
    "\n",
    "    def _compute_metrics(self, dataloader):\n",
    "        self.model.eval()\n",
    "        sketches = []\n",
    "        real = []\n",
    "        outputs = []\n",
    "\n",
    "        for data in dataloader:\n",
    "            batch_sketches, batch_real = data\n",
    "            batch_sketches = batch_sketches.to(config[\"device\"])\n",
    "            batch_real = batch_real.to(config[\"device\"])\n",
    "            with torch.no_grad():\n",
    "                batch_outputs = self.model(batch_sketches)\n",
    "            sketches.append(batch_sketches)\n",
    "            real.append(batch_real)\n",
    "            outputs.append(batch_outputs)\n",
    "\n",
    "        sketches = torch.cat(sketches)\n",
    "        real = torch.cat(real)\n",
    "        outputs = torch.cat(outputs)\n",
    "        loss = self.criterion(outputs, real).item()\n",
    "        \n",
    "        idx = np.random.choice(len(real))\n",
    "        \n",
    "        sketch_sample = sketches[idx]\n",
    "        real_sample = real[idx]\n",
    "        output_sample = outputs[idx]\n",
    "        \n",
    "        fig = self._visualize(sketch_sample, real_sample, output_sample)\n",
    "\n",
    "        return {\"loss\": loss, \"sample_fig\": fig}\n",
    "    \n",
    "    @staticmethod\n",
    "    def _visualize(sketch, real, output):\n",
    "        fig, ax = plt.subplots(1, 3, figsize=(10, 3))\n",
    "        ax[0].set_title(\"Sketch\")\n",
    "        ax[0].imshow(sketch.permute(1, 2, 0).cpu().data)\n",
    "        ax[1].set_title(\"Real\")\n",
    "        ax[1].imshow(real.permute(1, 2, 0).cpu().data)\n",
    "        ax[2].set_title(\"Predicted\")\n",
    "        ax[2].imshow(output.permute(1, 2, 0).cpu().data)\n",
    "        return fig\n",
    "\n",
    "    @staticmethod\n",
    "    def _save_checkpoint(model, checkpoint_name):\n",
    "        checkpoint_dir = os.path.join(CHECKPOINT_DIR, wandb.run.id)\n",
    "        if not os.path.exists(checkpoint_dir):\n",
    "            os.makedirs(checkpoint_dir)\n",
    "        checkpoint_path = os.path.join(checkpoint_dir, f\"{checkpoint_name}.pt\")\n",
    "        torch.save(model.state_dict(), checkpoint_path)"
   ]
  },
  {
   "cell_type": "code",
   "execution_count": 18,
   "metadata": {},
   "outputs": [],
   "source": [
    "optimizer = torch.optim.Adam(generator.parameters(), lr=config['g_lr'])\n",
    "trainer = Trainer(generator, optimizer, train_dataloader, val_dataloader, config)"
   ]
  },
  {
   "cell_type": "code",
   "execution_count": 19,
   "metadata": {},
   "outputs": [
    {
     "data": {
      "text/html": [
       "\n",
       "                Tracking run with wandb version 0.10.5<br/>\n",
       "                Syncing run <strong style=\"color:#cdcd00\">proud-flower-3</strong> to <a href=\"https://wandb.ai\" target=\"_blank\">Weights & Biases</a> <a href=\"https://docs.wandb.com/integrations/jupyter.html\" target=\"_blank\">(Documentation)</a>.<br/>\n",
       "                Project page: <a href=\"https://wandb.ai/whitera2bit/dl_hse_gan\" target=\"_blank\">https://wandb.ai/whitera2bit/dl_hse_gan</a><br/>\n",
       "                Run page: <a href=\"https://wandb.ai/whitera2bit/dl_hse_gan/runs/10ta8px1\" target=\"_blank\">https://wandb.ai/whitera2bit/dl_hse_gan/runs/10ta8px1</a><br/>\n",
       "                Run data is saved locally in <code>wandb/run-20201130_063325-10ta8px1</code><br/><br/>\n",
       "            "
      ],
      "text/plain": [
       "<IPython.core.display.HTML object>"
      ]
     },
     "metadata": {},
     "output_type": "display_data"
    }
   ],
   "source": [
    "trainer.train()"
   ]
  },
  {
   "cell_type": "code",
   "execution_count": 20,
   "metadata": {},
   "outputs": [
    {
     "data": {
      "text/plain": [
       "<Figure size 720x216 with 0 Axes>"
      ]
     },
     "metadata": {},
     "output_type": "display_data"
    }
   ],
   "source": [
    "import tqdm\n",
    "import wandb\n",
    "from loguru import logger\n",
    "\n",
    "\n",
    "class Trainer:\n",
    "    def __init__(self, model, optimizer, train_dataloader, val_dataloader, config=config):\n",
    "        self.model = model.to(config['device'])\n",
    "        self.optimizer = optimizer\n",
    "        self.config = config\n",
    "        self.criterion = nn.L1Loss()\n",
    "\n",
    "        self.train_dataloader = train_dataloader\n",
    "        self.val_dataloader = val_dataloader\n",
    "\n",
    "    def _initialize_wandb(self, project_name=WANDB_PROJECT):\n",
    "        wandb.init(config=self.config, project=project_name)\n",
    "        wandb.watch(self.model)\n",
    "\n",
    "    def train(self):\n",
    "        self.model.train()\n",
    "        self._initialize_wandb()\n",
    "\n",
    "        best_val_loss = np.inf\n",
    "        for epoch in range(self.config['epochs_num']):\n",
    "            logger.info(f\"Epoch {epoch} started...\")\n",
    "            for i, data in tqdm.tqdm(enumerate(self.train_dataloader)):\n",
    "                sketches, real = data\n",
    "                sketches = sketches.to(config[\"device\"])\n",
    "                real = real.to(config[\"device\"])\n",
    "\n",
    "                self.optimizer.zero_grad()\n",
    "                outputs = self.model(sketches)\n",
    "                loss = self.criterion(outputs, real)\n",
    "\n",
    "                # compute gradients\n",
    "                loss.backward()\n",
    "\n",
    "                # make a step\n",
    "                self.optimizer.step()\n",
    "\n",
    "                loss = loss.item()\n",
    "\n",
    "                if i % self.config['log_each'] == 0:\n",
    "                    val_metrics = self._compute_metrics(self.val_dataloader)\n",
    "                    val_loss = val_metrics['loss']\n",
    "                    val_fig = val_metrics['sample_fig']\n",
    "                    wandb.log({\n",
    "                        \"Train Loss\": loss, \\\n",
    "                        \"Val Loss\": val_loss, \\\n",
    "                        \"Sample\": val_fig\n",
    "                    })\n",
    "                    plt.clf()\n",
    "\n",
    "                    if val_loss < best_val_loss:\n",
    "                        self._save_checkpoint(self.model, \"baseline\")\n",
    "                        best_val_loss = val_loss\n",
    "        logger.info(f\"Training finished. Best validation loss: {best_val_loss}\")\n",
    "\n",
    "    def _compute_metrics(self, dataloader):\n",
    "        self.model.eval()\n",
    "        sketches = []\n",
    "        real = []\n",
    "        outputs = []\n",
    "\n",
    "        for data in dataloader:\n",
    "            batch_sketches, batch_real = data\n",
    "            batch_sketches = batch_sketches.to(config[\"device\"])\n",
    "            batch_real = batch_real.to(config[\"device\"])\n",
    "            with torch.no_grad():\n",
    "                batch_outputs = self.model(batch_sketches)\n",
    "            sketches.append(batch_sketches)\n",
    "            real.append(batch_real)\n",
    "            outputs.append(batch_outputs)\n",
    "\n",
    "        sketches = torch.cat(sketches)\n",
    "        real = torch.cat(real)\n",
    "        outputs = torch.cat(outputs)\n",
    "        loss = self.criterion(outputs, real).item()\n",
    "        \n",
    "        idx = np.random.choice(len(real))\n",
    "        \n",
    "        sketch_sample = sketches[idx]\n",
    "        real_sample = real[idx]\n",
    "        output_sample = outputs[idx]\n",
    "        \n",
    "        fig = self._visualize(sketch_sample, real_sample, output_sample)\n",
    "\n",
    "        return {\"loss\": loss, \"sample_fig\": fig}\n",
    "    \n",
    "    @staticmethod\n",
    "    def _visualize(sketch, real, output):\n",
    "        fig, ax = plt.subplots(1, 3, figsize=(10, 3))\n",
    "        ax[0].set_title(\"Sketch\")\n",
    "        ax[0].imshow(sketch.permute(1, 2, 0).cpu().data)\n",
    "        ax[1].set_title(\"Real\")\n",
    "        ax[1].imshow(real.permute(1, 2, 0).cpu().data)\n",
    "        ax[2].set_title(\"Predicted\")\n",
    "        ax[2].imshow(output.permute(1, 2, 0).cpu().data)\n",
    "        return fig\n",
    "\n",
    "    @staticmethod\n",
    "    def _save_checkpoint(model, checkpoint_name):\n",
    "        checkpoint_dir = os.path.join(CHECKPOINT_DIR, wandb.run.id)\n",
    "        if not os.path.exists(checkpoint_dir):\n",
    "            os.makedirs(checkpoint_dir)\n",
    "        checkpoint_path = os.path.join(checkpoint_dir, f\"{checkpoint_name}.pt\")\n",
    "        torch.save(model.state_dict(), checkpoint_path)"
   ]
  },
  {
   "cell_type": "code",
   "execution_count": 21,
   "metadata": {},
   "outputs": [],
   "source": [
    "optimizer = torch.optim.Adam(generator.parameters(), lr=config['g_lr'])\n",
    "trainer = Trainer(generator, optimizer, train_dataloader, val_dataloader, config)"
   ]
  },
  {
   "cell_type": "code",
   "execution_count": 22,
   "metadata": {},
   "outputs": [],
   "source": [
    "trainer.train()"
   ]
  }
 ],
 "metadata": {
  "kernelspec": {
   "display_name": "Python 3",
   "language": "python",
   "name": "python3"
  },
  "language_info": {
   "codemirror_mode": {
    "name": "ipython",
    "version": 3
   },
   "file_extension": ".py",
   "mimetype": "text/x-python",
   "name": "python",
   "nbconvert_exporter": "python",
   "pygments_lexer": "ipython3",
   "version": "3.7.6"
  }
 },
 "nbformat": 4,
 "nbformat_minor": 4
}
